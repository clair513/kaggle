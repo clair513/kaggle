{
 "cells": [
  {
   "cell_type": "markdown",
   "metadata": {},
   "source": [
    "# AMCAT Automata Coding Challenge | Python 3"
   ]
  },
  {
   "cell_type": "markdown",
   "metadata": {},
   "source": [
    "## (2) Number Based Programs:"
   ]
  },
  {
   "cell_type": "markdown",
   "metadata": {},
   "source": [
    "**<span style=\"color:green\">Floyd's Triangle:</span>**"
   ]
  },
  {
   "cell_type": "markdown",
   "metadata": {},
   "source": [
    "This is a right angled triangle of Natural numbers in incremental order."
   ]
  },
  {
   "cell_type": "code",
   "execution_count": 18,
   "metadata": {},
   "outputs": [
    {
     "name": "stdout",
     "output_type": "stream",
     "text": [
      "1  \n",
      "2  3  \n",
      "4  5  6  \n",
      "7  8  9  10  \n"
     ]
    }
   ],
   "source": [
    "def floyd(num):\n",
    "    n = int(num)\n",
    "    alok = 1\n",
    "    for i in range(1, n+1):\n",
    "        for j in range(1, i+1):\n",
    "            print(alok, end=\"  \")\n",
    "            alok+=1\n",
    "        print()\n",
    "\n",
    "floyd(4)"
   ]
  },
  {
   "cell_type": "markdown",
   "metadata": {},
   "source": [
    "**<span style=\"color:green\">Inverted Floyd's (Right Angle) Triangle</span>**"
   ]
  },
  {
   "cell_type": "code",
   "execution_count": 25,
   "metadata": {},
   "outputs": [
    {
     "name": "stdout",
     "output_type": "stream",
     "text": [
      "10  9  8  7  \n",
      "6  5  4  \n",
      "3  2  \n",
      "1  \n"
     ]
    }
   ],
   "source": [
    "def inverted_floyd(n):\n",
    "    alok = int(n*(n + 1)/2) \n",
    "    for i in range(n + 1, 1, -1): \n",
    "        for j in range(i, 1, -1):\n",
    "            print(alok, end =\"  \")\n",
    "            alok-=1\n",
    "        print()\n",
    "\n",
    "inverted_floyd(4)"
   ]
  },
  {
   "cell_type": "markdown",
   "metadata": {},
   "source": [
    "**<span style=\"color:green\">Double Incrementing Right angle Triangle:</span>**"
   ]
  },
  {
   "cell_type": "code",
   "execution_count": 35,
   "metadata": {},
   "outputs": [
    {
     "name": "stdout",
     "output_type": "stream",
     "text": [
      "1 \n",
      "2 3 4 \n",
      "5 6 7 8 9 \n"
     ]
    }
   ],
   "source": [
    "def double_increment(n):\n",
    "    num = 1\n",
    "    stop = 2\n",
    "    rows = int(n)\n",
    "    for i in range(rows):\n",
    "        for col in range(1, stop):\n",
    "            print(num, end=\" \")\n",
    "            num+=1\n",
    "        print(\"\")\n",
    "        stop += 2\n",
    "\n",
    "double_increment(3)  #Fails at 4!"
   ]
  },
  {
   "cell_type": "markdown",
   "metadata": {},
   "source": [
    "**<span style=\"color:green\">Numeric Decrementing Triangle Pattern:</span>**"
   ]
  },
  {
   "cell_type": "code",
   "execution_count": 43,
   "metadata": {},
   "outputs": [
    {
     "name": "stdout",
     "output_type": "stream",
     "text": [
      "4 \n",
      "6 5 \n",
      "9 8 7 \n",
      "6 5 \n",
      "4 \n"
     ]
    }
   ],
   "source": [
    "def decrementing_triangle(N1):\n",
    "    N = 0\n",
    "    r = 5\n",
    "    for i in range(r):\n",
    "        if i <= r // 2:\n",
    "            N = N1\n",
    "            for j in range(i + 1):\n",
    "                N += 1              \n",
    "            N1 = N\n",
    "            for j in range(i + 1):\n",
    "                N -= 1\n",
    "                print(N, end=\" \")\n",
    "            print()\n",
    "        else :\n",
    "            for j in range(i, r):\n",
    "                N-=1\n",
    "                print(N, end=\" \")\n",
    "            print()\n",
    "\n",
    "decrementing_triangle(4)"
   ]
  }
 ],
 "metadata": {
  "kernelspec": {
   "display_name": "Python 3",
   "language": "python",
   "name": "python3"
  },
  "language_info": {
   "codemirror_mode": {
    "name": "ipython",
    "version": 3
   },
   "file_extension": ".py",
   "mimetype": "text/x-python",
   "name": "python",
   "nbconvert_exporter": "python",
   "pygments_lexer": "ipython3",
   "version": "3.6.6"
  }
 },
 "nbformat": 4,
 "nbformat_minor": 2
}
