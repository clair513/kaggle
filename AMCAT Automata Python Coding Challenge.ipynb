{
 "cells": [
  {
   "cell_type": "markdown",
   "metadata": {},
   "source": [
    "# AMCAT Automata Coding Challenge | Python"
   ]
  },
  {
   "cell_type": "markdown",
   "metadata": {},
   "source": [
    "## (1) STAR Based Programs:"
   ]
  },
  {
   "cell_type": "markdown",
   "metadata": {},
   "source": [
    "**<span style=\"color:green\">Triangle Star Pattern</span>**"
   ]
  },
  {
   "cell_type": "code",
   "execution_count": 66,
   "metadata": {},
   "outputs": [
    {
     "name": "stdout",
     "output_type": "stream",
     "text": [
      "* \n",
      "* * \n",
      "* * * \n",
      "* * * * \n"
     ]
    }
   ],
   "source": [
    "def star1(n): \n",
    "    for i in range(0, n):\n",
    "        for j in range(0, i+1):\n",
    "            print(\"* \",end=\"\")\n",
    "        print()\n",
    "\n",
    "star1(4)"
   ]
  },
  {
   "cell_type": "code",
   "execution_count": 2,
   "metadata": {},
   "outputs": [
    {
     "name": "stdout",
     "output_type": "stream",
     "text": [
      "* \n",
      "* * * \n",
      "* * * * * \n",
      "* * * * * * * \n"
     ]
    }
   ],
   "source": [
    "def star2(n):\n",
    "    k = 1\n",
    "    for i in range(0, n):\n",
    "        for j in range(0, k):\n",
    "            print(\"* \", end=\"\")\n",
    "        k = k + 2\n",
    "        print()\n",
    "\n",
    "star2(4)"
   ]
  },
  {
   "cell_type": "markdown",
   "metadata": {},
   "source": [
    "**<span style=\"color:red\">Reverse Triangle Pattern</span>**"
   ]
  },
  {
   "cell_type": "code",
   "execution_count": 68,
   "metadata": {},
   "outputs": [
    {
     "name": "stdout",
     "output_type": "stream",
     "text": [
      "      * \n",
      "    * * \n",
      "  * * * \n",
      "* * * * \n"
     ]
    }
   ],
   "source": [
    "def star3(n):\n",
    "    k = 2*n - 2 \n",
    "    for i in range(0, n): \n",
    "        for j in range(0, k):\n",
    "            print(end=\" \")\n",
    "        k = k - 2\n",
    "        for j in range(0, i+1):\n",
    "            print(\"* \", end=\"\")\n",
    "        print()\n",
    "\n",
    "star3(4)"
   ]
  },
  {
   "cell_type": "code",
   "execution_count": 4,
   "metadata": {},
   "outputs": [
    {
     "name": "stdout",
     "output_type": "stream",
     "text": [
      "                * \n",
      "            * * * \n",
      "        * * * * * \n",
      "    * * * * * * * \n"
     ]
    }
   ],
   "source": [
    "def star4(n):\n",
    "    k = 16\n",
    "    alok = 1\n",
    "    for i in range(0, n):\n",
    "        for j in range(0, k):\n",
    "            print(end=\" \")\n",
    "        k = k - 4\n",
    "        for j in range(0, alok):\n",
    "            print(\"* \", end=\"\")\n",
    "        alok = alok + 2\n",
    "        print()\n",
    "\n",
    "star4(4)"
   ]
  },
  {
   "cell_type": "markdown",
   "metadata": {},
   "source": [
    "**<span style=\"color:green\">Pyramid Pattern</span>**"
   ]
  },
  {
   "cell_type": "code",
   "execution_count": 5,
   "metadata": {},
   "outputs": [
    {
     "name": "stdout",
     "output_type": "stream",
     "text": [
      "   *\n",
      "  ***\n",
      " *****\n",
      "*******\n"
     ]
    }
   ],
   "source": [
    "def pyramid(n):\n",
    "    for i in range(n):\n",
    "        print(\" \" * (n-i-1) + \"*\"*(2*i+1))\n",
    "\n",
    "pyramid(4)"
   ]
  },
  {
   "cell_type": "markdown",
   "metadata": {},
   "source": [
    "**<span style=\"color:red\">Inverted Pyramid Pattern</span>**"
   ]
  },
  {
   "cell_type": "code",
   "execution_count": 38,
   "metadata": {},
   "outputs": [
    {
     "name": "stdout",
     "output_type": "stream",
     "text": [
      "* * * * * \n",
      " * * * * \n",
      "  * * * \n",
      "   * * \n",
      "    * \n"
     ]
    }
   ],
   "source": [
    "def inverted_pyramid(n):\n",
    "    for i in range(n, 0, -1):\n",
    "        for j in range(0, n-i):\n",
    "            print(end=\" \")\n",
    "        for j in range(i):\n",
    "            print(\"*\", end=\" \")\n",
    "        print()\n",
    "\n",
    "inverted_pyramid(5)"
   ]
  },
  {
   "cell_type": "markdown",
   "metadata": {},
   "source": [
    "**<span style=\"color:red\">Hollow Pyramid</span>**"
   ]
  },
  {
   "cell_type": "code",
   "execution_count": 7,
   "metadata": {},
   "outputs": [
    {
     "name": "stdout",
     "output_type": "stream",
     "text": [
      "      *\n",
      "    *   *\n",
      "  *       *\n",
      "* * * * * * * \n"
     ]
    }
   ],
   "source": [
    "def hollow_pyramid(n):\n",
    "    for i in range(1, n-1):\n",
    "        print(\" \" * (2*n-2*i-2) + \"*\" + \" \" * (4*i-5) + \"*\" * (i!=1))\n",
    "    print(\"* \" * (2*n-3))\n",
    "\n",
    "hollow_pyramid(5)"
   ]
  },
  {
   "cell_type": "markdown",
   "metadata": {},
   "source": [
    "**<span style=\"color:green\">Inverted Hollow Pyramid</span>**"
   ]
  },
  {
   "cell_type": "code",
   "execution_count": 8,
   "metadata": {},
   "outputs": [
    {
     "name": "stdout",
     "output_type": "stream",
     "text": [
      "*******\n",
      " *   * \n",
      "  * *  \n",
      "   *   \n"
     ]
    }
   ],
   "source": [
    "def inverted_hollow_pyramid(n):\n",
    "    for row in range(1, n+1):\n",
    "        for col in range(1, n*2):\n",
    "            if row==1 or col-row==0 or col+row==n*2:\n",
    "                print(\"*\", end=\"\")\n",
    "            else:\n",
    "                print(end=\" \")\n",
    "        print()\n",
    "\n",
    "inverted_hollow_pyramid(4)"
   ]
  },
  {
   "cell_type": "markdown",
   "metadata": {},
   "source": [
    "**<span style=\"color:green\">Half Diamond Pattern</span>**"
   ]
  },
  {
   "cell_type": "code",
   "execution_count": 49,
   "metadata": {},
   "outputs": [
    {
     "name": "stdout",
     "output_type": "stream",
     "text": [
      "* \n",
      "* * \n",
      "* * * \n",
      "* * * * \n",
      "* * * \n",
      "* * \n",
      "* \n",
      "\n"
     ]
    }
   ],
   "source": [
    "def half_diamond(n):\n",
    "    rows = int(n)\n",
    "    for i in range(rows):\n",
    "        for j in range(i + 1):\n",
    "            print(\"*\", end=\" \")\n",
    "        print()\n",
    "    for i in range(rows, 0, -1):\n",
    "        for j in range(i -1):\n",
    "            print(\"*\", end=\" \")\n",
    "        print()\n",
    "\n",
    "half_diamond(4)"
   ]
  },
  {
   "cell_type": "markdown",
   "metadata": {},
   "source": [
    "**<span style=\"color:green\">Inverted Half Diamond</span>**"
   ]
  },
  {
   "cell_type": "code",
   "execution_count": 168,
   "metadata": {},
   "outputs": [
    {
     "name": "stdout",
     "output_type": "stream",
     "text": [
      "        * \n",
      "      * * \n",
      "    * * * \n",
      "  * * * * \n",
      "* * * * * \n"
     ]
    }
   ],
   "source": [
    "# INCORRECT Solution:\n",
    "def inverted_half_diamond(n):\n",
    "    rows = int(n)\n",
    "    k = 2*rows - 2 \n",
    "    for i in range(0, rows): \n",
    "        for j in range(0, k):\n",
    "            print(end=\" \")\n",
    "        k = k - 2\n",
    "        for j in range(0, i+1):\n",
    "            print(\"* \", end=\"\")\n",
    "        print()\n",
    "\n",
    "inverted_half_diamond(5)"
   ]
  },
  {
   "cell_type": "markdown",
   "metadata": {},
   "source": [
    "**<span style=\"color:green\">Full Diamond Pattern</span>**"
   ]
  },
  {
   "cell_type": "code",
   "execution_count": 10,
   "metadata": {},
   "outputs": [
    {
     "name": "stdout",
     "output_type": "stream",
     "text": [
      "    *\n",
      "   ***\n",
      "  *****\n",
      " *******\n",
      "  *****\n",
      "   ***\n",
      "    *\n"
     ]
    }
   ],
   "source": [
    "def full_diamond(n):\n",
    "    side = int(n)\n",
    "    for x in list(range(side)) + list(reversed(range(side-1))):\n",
    "        print(f\"{'': <{side-x-1}} {'':*<{x*2+1}}\")\n",
    "\n",
    "full_diamond(4)"
   ]
  },
  {
   "cell_type": "markdown",
   "metadata": {},
   "source": [
    "**<span style=\"color:green\">Full Hollow Diamond</span>**"
   ]
  },
  {
   "cell_type": "code",
   "execution_count": 163,
   "metadata": {},
   "outputs": [
    {
     "name": "stdout",
     "output_type": "stream",
     "text": [
      "  *  \n",
      " * * \n",
      "*   *\n",
      " * * \n",
      "  *  \n"
     ]
    }
   ],
   "source": [
    "def full_hollow_diamond(n):\n",
    "    N = n//2\n",
    "    print('\\n'.join([''.join([('*' if abs(x)+abs(y) == N else ' ') for x in range(-N, N+1)]) for y in range(-N, N+1)]))\n",
    "\n",
    "full_hollow_diamond(5)"
   ]
  },
  {
   "cell_type": "markdown",
   "metadata": {},
   "source": [
    "**<span style=\"color:green\">Right Hollow Triangle</span>**"
   ]
  },
  {
   "cell_type": "code",
   "execution_count": 175,
   "metadata": {},
   "outputs": [
    {
     "name": "stdout",
     "output_type": "stream",
     "text": [
      "*****\n",
      " *  *\n",
      "  * *\n",
      "   **\n",
      "    *\n"
     ]
    }
   ],
   "source": [
    "def right_hollow_triangle(num):\n",
    "    n = int(num)\n",
    "    for row in range(0, n):\n",
    "        for col in range(0, n):\n",
    "            if row==0 or col==(n-1) or row==col:\n",
    "                print(\"*\", end=\"\")\n",
    "            else:\n",
    "                print(end=\" \")\n",
    "        print()\n",
    "\n",
    "right_hollow_triangle(5)"
   ]
  },
  {
   "cell_type": "markdown",
   "metadata": {},
   "source": [
    "**<span style=\"color:green\"></span>**"
   ]
  }
 ],
 "metadata": {
  "kernelspec": {
   "display_name": "Python 3",
   "language": "python",
   "name": "python3"
  },
  "language_info": {
   "codemirror_mode": {
    "name": "ipython",
    "version": 3
   },
   "file_extension": ".py",
   "mimetype": "text/x-python",
   "name": "python",
   "nbconvert_exporter": "python",
   "pygments_lexer": "ipython3",
   "version": "3.6.6"
  }
 },
 "nbformat": 4,
 "nbformat_minor": 2
}
